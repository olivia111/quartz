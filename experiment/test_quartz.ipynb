{
 "cells": [
  {
   "cell_type": "code",
   "execution_count": 1,
   "metadata": {},
   "outputs": [
    {
     "name": "stderr",
     "output_type": "stream",
     "text": [
      "Using backend: pytorch[13:51:09] /opt/dgl/src/runtime/tensordispatch.cc:43: TensorDispatcher: dlopen failed: /home/lzk/anaconda3/envs/quantum/lib/python3.8/site-packages/dgl/tensoradapter/pytorch/libtensoradapter_pytorch_1.10.2.so: cannot open shared object file: No such file or directory\n",
      "\n"
     ]
    }
   ],
   "source": [
    "# A warning message from DGL will appear which seems to be related to an open issue in the DGL library, \n",
    "# it won't hurt the execution of the program, please ignore it.\n",
    "import quartz"
   ]
  },
  {
   "cell_type": "markdown",
   "metadata": {},
   "source": [
    "## Construct QuartzContext\n",
    "The following lines are used to construct a context in quartz which contains all the generated transfers under a given gate set."
   ]
  },
  {
   "cell_type": "code",
   "execution_count": 2,
   "metadata": {},
   "outputs": [],
   "source": [
    "quartz_context = quartz.QuartzContext(gate_set=['h', 'cx', 't', 'tdg'], filename='../bfs_verified_simplified.json')"
   ]
  },
  {
   "cell_type": "code",
   "execution_count": 3,
   "metadata": {},
   "outputs": [
    {
     "data": {
      "text/plain": [
       "390"
      ]
     },
     "execution_count": 3,
     "metadata": {},
     "output_type": "execute_result"
    }
   ],
   "source": [
    "quartz_context.num_xfers"
   ]
  },
  {
   "cell_type": "code",
   "execution_count": 4,
   "metadata": {},
   "outputs": [
    {
     "data": {
      "text/plain": [
       "[<quartz.core.PyXfer at 0x7efe00578550>,\n",
       " <quartz.core.PyXfer at 0x7efe00578450>,\n",
       " <quartz.core.PyXfer at 0x7efe005785b0>,\n",
       " <quartz.core.PyXfer at 0x7efe00578590>,\n",
       " <quartz.core.PyXfer at 0x7efe00578510>,\n",
       " <quartz.core.PyXfer at 0x7efe005785f0>,\n",
       " <quartz.core.PyXfer at 0x7efe005785d0>,\n",
       " <quartz.core.PyXfer at 0x7efe00578610>,\n",
       " <quartz.core.PyXfer at 0x7efe00578630>,\n",
       " <quartz.core.PyXfer at 0x7efe00578650>,\n",
       " <quartz.core.PyXfer at 0x7efe00578670>,\n",
       " <quartz.core.PyXfer at 0x7efe00578690>,\n",
       " <quartz.core.PyXfer at 0x7efe005786b0>,\n",
       " <quartz.core.PyXfer at 0x7efe005786d0>,\n",
       " <quartz.core.PyXfer at 0x7efe005786f0>,\n",
       " <quartz.core.PyXfer at 0x7efe00578710>,\n",
       " <quartz.core.PyXfer at 0x7efe00578730>,\n",
       " <quartz.core.PyXfer at 0x7efe00578750>,\n",
       " <quartz.core.PyXfer at 0x7efe00578770>,\n",
       " <quartz.core.PyXfer at 0x7efe00578790>,\n",
       " <quartz.core.PyXfer at 0x7efe005787b0>,\n",
       " <quartz.core.PyXfer at 0x7efe005787d0>,\n",
       " <quartz.core.PyXfer at 0x7efe005787f0>,\n",
       " <quartz.core.PyXfer at 0x7efe00578810>,\n",
       " <quartz.core.PyXfer at 0x7efe00578830>,\n",
       " <quartz.core.PyXfer at 0x7efe00578850>,\n",
       " <quartz.core.PyXfer at 0x7efe00578870>,\n",
       " <quartz.core.PyXfer at 0x7efe00578890>,\n",
       " <quartz.core.PyXfer at 0x7efe005788b0>,\n",
       " <quartz.core.PyXfer at 0x7efe005788d0>,\n",
       " <quartz.core.PyXfer at 0x7efe005788f0>,\n",
       " <quartz.core.PyXfer at 0x7efe00578910>,\n",
       " <quartz.core.PyXfer at 0x7efe00578930>,\n",
       " <quartz.core.PyXfer at 0x7efe00578950>,\n",
       " <quartz.core.PyXfer at 0x7efe00578970>,\n",
       " <quartz.core.PyXfer at 0x7efe00578990>,\n",
       " <quartz.core.PyXfer at 0x7efe005789b0>,\n",
       " <quartz.core.PyXfer at 0x7efe005789d0>,\n",
       " <quartz.core.PyXfer at 0x7efe005789f0>,\n",
       " <quartz.core.PyXfer at 0x7efe00578a10>,\n",
       " <quartz.core.PyXfer at 0x7efe00578a30>,\n",
       " <quartz.core.PyXfer at 0x7efe00578a50>,\n",
       " <quartz.core.PyXfer at 0x7efe00578a70>,\n",
       " <quartz.core.PyXfer at 0x7efe00578a90>,\n",
       " <quartz.core.PyXfer at 0x7efe00578ab0>,\n",
       " <quartz.core.PyXfer at 0x7efe00578ad0>,\n",
       " <quartz.core.PyXfer at 0x7efe00578af0>,\n",
       " <quartz.core.PyXfer at 0x7efe00578b10>,\n",
       " <quartz.core.PyXfer at 0x7efe00578b30>,\n",
       " <quartz.core.PyXfer at 0x7efe00578b50>,\n",
       " <quartz.core.PyXfer at 0x7efe00578b70>,\n",
       " <quartz.core.PyXfer at 0x7efe00578b90>,\n",
       " <quartz.core.PyXfer at 0x7efe00578bb0>,\n",
       " <quartz.core.PyXfer at 0x7efe00578bd0>,\n",
       " <quartz.core.PyXfer at 0x7efe00578bf0>,\n",
       " <quartz.core.PyXfer at 0x7efe00578c10>,\n",
       " <quartz.core.PyXfer at 0x7efe00578c30>,\n",
       " <quartz.core.PyXfer at 0x7efe00578c50>,\n",
       " <quartz.core.PyXfer at 0x7efe00578c70>,\n",
       " <quartz.core.PyXfer at 0x7efe00578c90>,\n",
       " <quartz.core.PyXfer at 0x7efe00578cb0>,\n",
       " <quartz.core.PyXfer at 0x7efe00578cd0>,\n",
       " <quartz.core.PyXfer at 0x7efe00578cf0>,\n",
       " <quartz.core.PyXfer at 0x7efe00578d10>,\n",
       " <quartz.core.PyXfer at 0x7efe00578d30>,\n",
       " <quartz.core.PyXfer at 0x7efe00578d50>,\n",
       " <quartz.core.PyXfer at 0x7efe00578d70>,\n",
       " <quartz.core.PyXfer at 0x7efe00578d90>,\n",
       " <quartz.core.PyXfer at 0x7efe00578db0>,\n",
       " <quartz.core.PyXfer at 0x7efe00578dd0>,\n",
       " <quartz.core.PyXfer at 0x7efe00578df0>,\n",
       " <quartz.core.PyXfer at 0x7efe00578e10>,\n",
       " <quartz.core.PyXfer at 0x7efe00578e30>,\n",
       " <quartz.core.PyXfer at 0x7efe00578e50>,\n",
       " <quartz.core.PyXfer at 0x7efe00578e70>,\n",
       " <quartz.core.PyXfer at 0x7efe00578e90>,\n",
       " <quartz.core.PyXfer at 0x7efe00578eb0>,\n",
       " <quartz.core.PyXfer at 0x7efe00578ed0>,\n",
       " <quartz.core.PyXfer at 0x7efe00578ef0>,\n",
       " <quartz.core.PyXfer at 0x7efe00578f10>,\n",
       " <quartz.core.PyXfer at 0x7efe00578f30>,\n",
       " <quartz.core.PyXfer at 0x7efe00578f50>,\n",
       " <quartz.core.PyXfer at 0x7efe00578f70>,\n",
       " <quartz.core.PyXfer at 0x7efe00578f90>,\n",
       " <quartz.core.PyXfer at 0x7efe00578fb0>,\n",
       " <quartz.core.PyXfer at 0x7efe00578fd0>,\n",
       " <quartz.core.PyXfer at 0x7efe00541030>,\n",
       " <quartz.core.PyXfer at 0x7efe00541050>,\n",
       " <quartz.core.PyXfer at 0x7efe00541070>,\n",
       " <quartz.core.PyXfer at 0x7efe00541090>,\n",
       " <quartz.core.PyXfer at 0x7efe005410b0>,\n",
       " <quartz.core.PyXfer at 0x7efe005410d0>,\n",
       " <quartz.core.PyXfer at 0x7efe005410f0>,\n",
       " <quartz.core.PyXfer at 0x7efe00541110>,\n",
       " <quartz.core.PyXfer at 0x7efe00541130>,\n",
       " <quartz.core.PyXfer at 0x7efe00541150>,\n",
       " <quartz.core.PyXfer at 0x7efe00541170>,\n",
       " <quartz.core.PyXfer at 0x7efe00541190>,\n",
       " <quartz.core.PyXfer at 0x7efe005411b0>,\n",
       " <quartz.core.PyXfer at 0x7efe005411d0>,\n",
       " <quartz.core.PyXfer at 0x7efe005411f0>,\n",
       " <quartz.core.PyXfer at 0x7efe00541210>,\n",
       " <quartz.core.PyXfer at 0x7efe00541230>,\n",
       " <quartz.core.PyXfer at 0x7efe00541250>,\n",
       " <quartz.core.PyXfer at 0x7efe00541270>,\n",
       " <quartz.core.PyXfer at 0x7efe00541290>,\n",
       " <quartz.core.PyXfer at 0x7efe005412b0>,\n",
       " <quartz.core.PyXfer at 0x7efe005412d0>,\n",
       " <quartz.core.PyXfer at 0x7efe005412f0>,\n",
       " <quartz.core.PyXfer at 0x7efe00541310>,\n",
       " <quartz.core.PyXfer at 0x7efe00541330>,\n",
       " <quartz.core.PyXfer at 0x7efe00541350>,\n",
       " <quartz.core.PyXfer at 0x7efe00541370>,\n",
       " <quartz.core.PyXfer at 0x7efe00541390>,\n",
       " <quartz.core.PyXfer at 0x7efe005413b0>,\n",
       " <quartz.core.PyXfer at 0x7efe005413d0>,\n",
       " <quartz.core.PyXfer at 0x7efe005413f0>,\n",
       " <quartz.core.PyXfer at 0x7efe00541410>,\n",
       " <quartz.core.PyXfer at 0x7efe00541430>,\n",
       " <quartz.core.PyXfer at 0x7efe00541450>,\n",
       " <quartz.core.PyXfer at 0x7efe00541470>,\n",
       " <quartz.core.PyXfer at 0x7efe00541490>,\n",
       " <quartz.core.PyXfer at 0x7efe005414b0>,\n",
       " <quartz.core.PyXfer at 0x7efe005414d0>,\n",
       " <quartz.core.PyXfer at 0x7efe005414f0>,\n",
       " <quartz.core.PyXfer at 0x7efe00541510>,\n",
       " <quartz.core.PyXfer at 0x7efe00541530>,\n",
       " <quartz.core.PyXfer at 0x7efe00541550>,\n",
       " <quartz.core.PyXfer at 0x7efe00541570>,\n",
       " <quartz.core.PyXfer at 0x7efe00541590>,\n",
       " <quartz.core.PyXfer at 0x7efe005415b0>,\n",
       " <quartz.core.PyXfer at 0x7efe005415d0>,\n",
       " <quartz.core.PyXfer at 0x7efe005415f0>,\n",
       " <quartz.core.PyXfer at 0x7efe00541610>,\n",
       " <quartz.core.PyXfer at 0x7efe00541630>,\n",
       " <quartz.core.PyXfer at 0x7efe00541650>,\n",
       " <quartz.core.PyXfer at 0x7efe00541670>,\n",
       " <quartz.core.PyXfer at 0x7efe00541690>,\n",
       " <quartz.core.PyXfer at 0x7efe005416b0>,\n",
       " <quartz.core.PyXfer at 0x7efe005416d0>,\n",
       " <quartz.core.PyXfer at 0x7efe005416f0>,\n",
       " <quartz.core.PyXfer at 0x7efe00541710>,\n",
       " <quartz.core.PyXfer at 0x7efe00541730>,\n",
       " <quartz.core.PyXfer at 0x7efe00541750>,\n",
       " <quartz.core.PyXfer at 0x7efe00541770>,\n",
       " <quartz.core.PyXfer at 0x7efe00541790>,\n",
       " <quartz.core.PyXfer at 0x7efe005417b0>,\n",
       " <quartz.core.PyXfer at 0x7efe005417d0>,\n",
       " <quartz.core.PyXfer at 0x7efe005417f0>,\n",
       " <quartz.core.PyXfer at 0x7efe00541810>,\n",
       " <quartz.core.PyXfer at 0x7efe00541830>,\n",
       " <quartz.core.PyXfer at 0x7efe00541850>,\n",
       " <quartz.core.PyXfer at 0x7efe00541870>,\n",
       " <quartz.core.PyXfer at 0x7efe00541890>,\n",
       " <quartz.core.PyXfer at 0x7efe005418b0>,\n",
       " <quartz.core.PyXfer at 0x7efe005418d0>,\n",
       " <quartz.core.PyXfer at 0x7efe005418f0>,\n",
       " <quartz.core.PyXfer at 0x7efe00541910>,\n",
       " <quartz.core.PyXfer at 0x7efe00541930>,\n",
       " <quartz.core.PyXfer at 0x7efe00541950>,\n",
       " <quartz.core.PyXfer at 0x7efe00541970>,\n",
       " <quartz.core.PyXfer at 0x7efe00541990>,\n",
       " <quartz.core.PyXfer at 0x7efe005419b0>,\n",
       " <quartz.core.PyXfer at 0x7efe005419d0>,\n",
       " <quartz.core.PyXfer at 0x7efe005419f0>,\n",
       " <quartz.core.PyXfer at 0x7efe00541a10>,\n",
       " <quartz.core.PyXfer at 0x7efe00541a30>,\n",
       " <quartz.core.PyXfer at 0x7efe00541a50>,\n",
       " <quartz.core.PyXfer at 0x7efe00541a70>,\n",
       " <quartz.core.PyXfer at 0x7efe00541a90>,\n",
       " <quartz.core.PyXfer at 0x7efe00541ab0>,\n",
       " <quartz.core.PyXfer at 0x7efe00541ad0>,\n",
       " <quartz.core.PyXfer at 0x7efe00541af0>,\n",
       " <quartz.core.PyXfer at 0x7efe00541b10>,\n",
       " <quartz.core.PyXfer at 0x7efe00541b30>,\n",
       " <quartz.core.PyXfer at 0x7efe00541b50>,\n",
       " <quartz.core.PyXfer at 0x7efe00541b70>,\n",
       " <quartz.core.PyXfer at 0x7efe00541b90>,\n",
       " <quartz.core.PyXfer at 0x7efe00541bb0>,\n",
       " <quartz.core.PyXfer at 0x7efe00541bd0>,\n",
       " <quartz.core.PyXfer at 0x7efe00541bf0>,\n",
       " <quartz.core.PyXfer at 0x7efe00541c10>,\n",
       " <quartz.core.PyXfer at 0x7efe00541c30>,\n",
       " <quartz.core.PyXfer at 0x7efe00541c50>,\n",
       " <quartz.core.PyXfer at 0x7efe00541c70>,\n",
       " <quartz.core.PyXfer at 0x7efe00541c90>,\n",
       " <quartz.core.PyXfer at 0x7efe00541cb0>,\n",
       " <quartz.core.PyXfer at 0x7efe00541cd0>,\n",
       " <quartz.core.PyXfer at 0x7efe00541cf0>,\n",
       " <quartz.core.PyXfer at 0x7efe00541d10>,\n",
       " <quartz.core.PyXfer at 0x7efe00541d30>,\n",
       " <quartz.core.PyXfer at 0x7efe00541d50>,\n",
       " <quartz.core.PyXfer at 0x7efe00541d70>,\n",
       " <quartz.core.PyXfer at 0x7efe00541d90>,\n",
       " <quartz.core.PyXfer at 0x7efe00541db0>,\n",
       " <quartz.core.PyXfer at 0x7efe00541dd0>,\n",
       " <quartz.core.PyXfer at 0x7efe00541df0>,\n",
       " <quartz.core.PyXfer at 0x7efe00541e10>,\n",
       " <quartz.core.PyXfer at 0x7efe00541e30>,\n",
       " <quartz.core.PyXfer at 0x7efe00541e50>,\n",
       " <quartz.core.PyXfer at 0x7efe00541e70>,\n",
       " <quartz.core.PyXfer at 0x7efe00541e90>,\n",
       " <quartz.core.PyXfer at 0x7efe00541eb0>,\n",
       " <quartz.core.PyXfer at 0x7efe00541ed0>,\n",
       " <quartz.core.PyXfer at 0x7efe00541ef0>,\n",
       " <quartz.core.PyXfer at 0x7efe00541f10>,\n",
       " <quartz.core.PyXfer at 0x7efe00541f30>,\n",
       " <quartz.core.PyXfer at 0x7efe00541f50>,\n",
       " <quartz.core.PyXfer at 0x7efe00541f70>,\n",
       " <quartz.core.PyXfer at 0x7efe00541f90>,\n",
       " <quartz.core.PyXfer at 0x7efe00541fb0>,\n",
       " <quartz.core.PyXfer at 0x7efe00541fd0>,\n",
       " <quartz.core.PyXfer at 0x7efe00542030>,\n",
       " <quartz.core.PyXfer at 0x7efe00542050>,\n",
       " <quartz.core.PyXfer at 0x7efe00542070>,\n",
       " <quartz.core.PyXfer at 0x7efe00542090>,\n",
       " <quartz.core.PyXfer at 0x7efe005420b0>,\n",
       " <quartz.core.PyXfer at 0x7efe005420d0>,\n",
       " <quartz.core.PyXfer at 0x7efe005420f0>,\n",
       " <quartz.core.PyXfer at 0x7efe00542110>,\n",
       " <quartz.core.PyXfer at 0x7efe00542130>,\n",
       " <quartz.core.PyXfer at 0x7efe00542150>,\n",
       " <quartz.core.PyXfer at 0x7efe00542170>,\n",
       " <quartz.core.PyXfer at 0x7efe00542190>,\n",
       " <quartz.core.PyXfer at 0x7efe005421b0>,\n",
       " <quartz.core.PyXfer at 0x7efe005421d0>,\n",
       " <quartz.core.PyXfer at 0x7efe005421f0>,\n",
       " <quartz.core.PyXfer at 0x7efe00542210>,\n",
       " <quartz.core.PyXfer at 0x7efe00542230>,\n",
       " <quartz.core.PyXfer at 0x7efe00542250>,\n",
       " <quartz.core.PyXfer at 0x7efe00542270>,\n",
       " <quartz.core.PyXfer at 0x7efe00542290>,\n",
       " <quartz.core.PyXfer at 0x7efe005422b0>,\n",
       " <quartz.core.PyXfer at 0x7efe005422d0>,\n",
       " <quartz.core.PyXfer at 0x7efe005422f0>,\n",
       " <quartz.core.PyXfer at 0x7efe00542310>,\n",
       " <quartz.core.PyXfer at 0x7efe00542330>,\n",
       " <quartz.core.PyXfer at 0x7efe00542350>,\n",
       " <quartz.core.PyXfer at 0x7efe00542370>,\n",
       " <quartz.core.PyXfer at 0x7efe00542390>,\n",
       " <quartz.core.PyXfer at 0x7efe005423b0>,\n",
       " <quartz.core.PyXfer at 0x7efe005423d0>,\n",
       " <quartz.core.PyXfer at 0x7efe005423f0>,\n",
       " <quartz.core.PyXfer at 0x7efe00542410>,\n",
       " <quartz.core.PyXfer at 0x7efe00542430>,\n",
       " <quartz.core.PyXfer at 0x7efe00542450>,\n",
       " <quartz.core.PyXfer at 0x7efe00542470>,\n",
       " <quartz.core.PyXfer at 0x7efe00542490>,\n",
       " <quartz.core.PyXfer at 0x7efe005424b0>,\n",
       " <quartz.core.PyXfer at 0x7efe005424d0>,\n",
       " <quartz.core.PyXfer at 0x7efe005424f0>,\n",
       " <quartz.core.PyXfer at 0x7efe00542510>,\n",
       " <quartz.core.PyXfer at 0x7efe00542530>,\n",
       " <quartz.core.PyXfer at 0x7efe00542550>,\n",
       " <quartz.core.PyXfer at 0x7efe00542570>,\n",
       " <quartz.core.PyXfer at 0x7efe00542590>,\n",
       " <quartz.core.PyXfer at 0x7efe005425b0>,\n",
       " <quartz.core.PyXfer at 0x7efe005425d0>,\n",
       " <quartz.core.PyXfer at 0x7efe005425f0>,\n",
       " <quartz.core.PyXfer at 0x7efe00542610>,\n",
       " <quartz.core.PyXfer at 0x7efe00542630>,\n",
       " <quartz.core.PyXfer at 0x7efe00542650>,\n",
       " <quartz.core.PyXfer at 0x7efe00542670>,\n",
       " <quartz.core.PyXfer at 0x7efe00542690>,\n",
       " <quartz.core.PyXfer at 0x7efe005426b0>,\n",
       " <quartz.core.PyXfer at 0x7efe005426d0>,\n",
       " <quartz.core.PyXfer at 0x7efe005426f0>,\n",
       " <quartz.core.PyXfer at 0x7efe00542710>,\n",
       " <quartz.core.PyXfer at 0x7efe00542730>,\n",
       " <quartz.core.PyXfer at 0x7efe00542750>,\n",
       " <quartz.core.PyXfer at 0x7efe00542770>,\n",
       " <quartz.core.PyXfer at 0x7efe00542790>,\n",
       " <quartz.core.PyXfer at 0x7efe005427b0>,\n",
       " <quartz.core.PyXfer at 0x7efe005427d0>,\n",
       " <quartz.core.PyXfer at 0x7efe005427f0>,\n",
       " <quartz.core.PyXfer at 0x7efe00542810>,\n",
       " <quartz.core.PyXfer at 0x7efe00542830>,\n",
       " <quartz.core.PyXfer at 0x7efe00542850>,\n",
       " <quartz.core.PyXfer at 0x7efe00542870>,\n",
       " <quartz.core.PyXfer at 0x7efe00542890>,\n",
       " <quartz.core.PyXfer at 0x7efe005428b0>,\n",
       " <quartz.core.PyXfer at 0x7efe005428d0>,\n",
       " <quartz.core.PyXfer at 0x7efe005428f0>,\n",
       " <quartz.core.PyXfer at 0x7efe00542910>,\n",
       " <quartz.core.PyXfer at 0x7efe00542930>,\n",
       " <quartz.core.PyXfer at 0x7efe00542950>,\n",
       " <quartz.core.PyXfer at 0x7efe00542970>,\n",
       " <quartz.core.PyXfer at 0x7efe00542990>,\n",
       " <quartz.core.PyXfer at 0x7efe005429b0>,\n",
       " <quartz.core.PyXfer at 0x7efe005429d0>,\n",
       " <quartz.core.PyXfer at 0x7efe005429f0>,\n",
       " <quartz.core.PyXfer at 0x7efe00542a10>,\n",
       " <quartz.core.PyXfer at 0x7efe00542a30>,\n",
       " <quartz.core.PyXfer at 0x7efe00542a50>,\n",
       " <quartz.core.PyXfer at 0x7efe00542a70>,\n",
       " <quartz.core.PyXfer at 0x7efe00542a90>,\n",
       " <quartz.core.PyXfer at 0x7efe00542ab0>,\n",
       " <quartz.core.PyXfer at 0x7efe00542ad0>,\n",
       " <quartz.core.PyXfer at 0x7efe00542af0>,\n",
       " <quartz.core.PyXfer at 0x7efe00542b10>,\n",
       " <quartz.core.PyXfer at 0x7efe00542b30>,\n",
       " <quartz.core.PyXfer at 0x7efe00542b50>,\n",
       " <quartz.core.PyXfer at 0x7efe00542b70>,\n",
       " <quartz.core.PyXfer at 0x7efe00542b90>,\n",
       " <quartz.core.PyXfer at 0x7efe00542bb0>,\n",
       " <quartz.core.PyXfer at 0x7efe00542bd0>,\n",
       " <quartz.core.PyXfer at 0x7efe00542bf0>,\n",
       " <quartz.core.PyXfer at 0x7efe00542c10>,\n",
       " <quartz.core.PyXfer at 0x7efe00542c30>,\n",
       " <quartz.core.PyXfer at 0x7efe00542c50>,\n",
       " <quartz.core.PyXfer at 0x7efe00542c70>,\n",
       " <quartz.core.PyXfer at 0x7efe00542c90>,\n",
       " <quartz.core.PyXfer at 0x7efe00542cb0>,\n",
       " <quartz.core.PyXfer at 0x7efe00542cd0>,\n",
       " <quartz.core.PyXfer at 0x7efe00542cf0>,\n",
       " <quartz.core.PyXfer at 0x7efe00542d10>,\n",
       " <quartz.core.PyXfer at 0x7efe00542d30>,\n",
       " <quartz.core.PyXfer at 0x7efe00542d50>,\n",
       " <quartz.core.PyXfer at 0x7efe00542d70>,\n",
       " <quartz.core.PyXfer at 0x7efe00542d90>,\n",
       " <quartz.core.PyXfer at 0x7efe00542db0>,\n",
       " <quartz.core.PyXfer at 0x7efe00542dd0>,\n",
       " <quartz.core.PyXfer at 0x7efe00542df0>,\n",
       " <quartz.core.PyXfer at 0x7efe00542e10>,\n",
       " <quartz.core.PyXfer at 0x7efe00542e30>,\n",
       " <quartz.core.PyXfer at 0x7efe00542e50>,\n",
       " <quartz.core.PyXfer at 0x7efe00542e70>,\n",
       " <quartz.core.PyXfer at 0x7efe00542e90>,\n",
       " <quartz.core.PyXfer at 0x7efe00542eb0>,\n",
       " <quartz.core.PyXfer at 0x7efe00542ed0>,\n",
       " <quartz.core.PyXfer at 0x7efe00542ef0>,\n",
       " <quartz.core.PyXfer at 0x7efe00542f10>,\n",
       " <quartz.core.PyXfer at 0x7efe00542f30>,\n",
       " <quartz.core.PyXfer at 0x7efe00542f50>,\n",
       " <quartz.core.PyXfer at 0x7efe00542f70>,\n",
       " <quartz.core.PyXfer at 0x7efe00542f90>,\n",
       " <quartz.core.PyXfer at 0x7efe00542fb0>,\n",
       " <quartz.core.PyXfer at 0x7efe00542fd0>,\n",
       " <quartz.core.PyXfer at 0x7efe00543030>,\n",
       " <quartz.core.PyXfer at 0x7efe00543050>,\n",
       " <quartz.core.PyXfer at 0x7efe00543070>,\n",
       " <quartz.core.PyXfer at 0x7efe00543090>,\n",
       " <quartz.core.PyXfer at 0x7efe005430b0>,\n",
       " <quartz.core.PyXfer at 0x7efe005430d0>,\n",
       " <quartz.core.PyXfer at 0x7efe005430f0>,\n",
       " <quartz.core.PyXfer at 0x7efe00543110>,\n",
       " <quartz.core.PyXfer at 0x7efe00543130>,\n",
       " <quartz.core.PyXfer at 0x7efe00543150>,\n",
       " <quartz.core.PyXfer at 0x7efe00543170>,\n",
       " <quartz.core.PyXfer at 0x7efe00543190>,\n",
       " <quartz.core.PyXfer at 0x7efe005431b0>,\n",
       " <quartz.core.PyXfer at 0x7efe005431d0>,\n",
       " <quartz.core.PyXfer at 0x7efe005431f0>,\n",
       " <quartz.core.PyXfer at 0x7efe00543210>,\n",
       " <quartz.core.PyXfer at 0x7efe00543230>,\n",
       " <quartz.core.PyXfer at 0x7efe00543250>,\n",
       " <quartz.core.PyXfer at 0x7efe00543270>,\n",
       " <quartz.core.PyXfer at 0x7efe00543290>,\n",
       " <quartz.core.PyXfer at 0x7efe005432b0>,\n",
       " <quartz.core.PyXfer at 0x7efe005432d0>,\n",
       " <quartz.core.PyXfer at 0x7efe005432f0>,\n",
       " <quartz.core.PyXfer at 0x7efe00543310>,\n",
       " <quartz.core.PyXfer at 0x7efe00543330>,\n",
       " <quartz.core.PyXfer at 0x7efe00543350>,\n",
       " <quartz.core.PyXfer at 0x7efe00543370>,\n",
       " <quartz.core.PyXfer at 0x7efe00543390>,\n",
       " <quartz.core.PyXfer at 0x7efe005433b0>,\n",
       " <quartz.core.PyXfer at 0x7efe005433d0>,\n",
       " <quartz.core.PyXfer at 0x7efe005433f0>,\n",
       " <quartz.core.PyXfer at 0x7efe00543410>,\n",
       " <quartz.core.PyXfer at 0x7efe00543430>,\n",
       " <quartz.core.PyXfer at 0x7efe00543450>,\n",
       " <quartz.core.PyXfer at 0x7efe00543470>,\n",
       " <quartz.core.PyXfer at 0x7efe00543490>,\n",
       " <quartz.core.PyXfer at 0x7efe005434b0>,\n",
       " <quartz.core.PyXfer at 0x7efe005434d0>,\n",
       " <quartz.core.PyXfer at 0x7efe005434f0>,\n",
       " <quartz.core.PyXfer at 0x7efe00543510>,\n",
       " <quartz.core.PyXfer at 0x7efe00543530>,\n",
       " <quartz.core.PyXfer at 0x7efe00543550>,\n",
       " <quartz.core.PyXfer at 0x7efe00543570>,\n",
       " <quartz.core.PyXfer at 0x7efe00543590>,\n",
       " <quartz.core.PyXfer at 0x7efe005435b0>,\n",
       " <quartz.core.PyXfer at 0x7efe005435d0>,\n",
       " <quartz.core.PyXfer at 0x7efe005435f0>,\n",
       " <quartz.core.PyXfer at 0x7efe00543610>,\n",
       " <quartz.core.PyXfer at 0x7efe00543630>,\n",
       " <quartz.core.PyXfer at 0x7efe00543650>,\n",
       " <quartz.core.PyXfer at 0x7efe00543670>,\n",
       " <quartz.core.PyXfer at 0x7efe00543690>]"
      ]
     },
     "execution_count": 4,
     "metadata": {},
     "output_type": "execute_result"
    }
   ],
   "source": [
    "quartz_context.get_xfers()"
   ]
  },
  {
   "cell_type": "code",
   "execution_count": 5,
   "metadata": {},
   "outputs": [
    {
     "data": {
      "text/plain": [
       "<quartz.core.PyXfer at 0x7efe00578530>"
      ]
     },
     "execution_count": 5,
     "metadata": {},
     "output_type": "execute_result"
    }
   ],
   "source": [
    "quartz_context.get_xfer_from_id(id=0)"
   ]
  },
  {
   "cell_type": "markdown",
   "metadata": {},
   "source": [
    "## QASM parser\n",
    "You can construct a PyQASMParser to generate a PyDAG from a QASM file."
   ]
  },
  {
   "cell_type": "code",
   "execution_count": 6,
   "metadata": {},
   "outputs": [],
   "source": [
    "parser = quartz.PyQASMParser(context=quartz_context)"
   ]
  },
  {
   "cell_type": "code",
   "execution_count": 7,
   "metadata": {},
   "outputs": [
    {
     "data": {
      "text/plain": [
       "(5, 58)"
      ]
     },
     "execution_count": 7,
     "metadata": {},
     "output_type": "execute_result"
    }
   ],
   "source": [
    "my_dag = parser.load_qasm(filename=\"../circuit/example-circuits/barenco_tof_3.qasm\")\n",
    "my_dag.num_qubits, my_dag.num_gates"
   ]
  },
  {
   "cell_type": "markdown",
   "metadata": {},
   "source": [
    "## PyGraph\n",
    "\n",
    "You can construct a PyGraph from a PyDAG.\n",
    "\n",
    "Below are some examples showing the APIs in PyGraph."
   ]
  },
  {
   "cell_type": "code",
   "execution_count": 8,
   "metadata": {},
   "outputs": [],
   "source": [
    "my_graph = quartz.PyGraph(context=quartz_context, dag=my_dag)"
   ]
  },
  {
   "cell_type": "code",
   "execution_count": 9,
   "metadata": {},
   "outputs": [
    {
     "data": {
      "text/plain": [
       "(58, 77)"
      ]
     },
     "execution_count": 9,
     "metadata": {},
     "output_type": "execute_result"
    }
   ],
   "source": [
    "my_graph.num_nodes, my_graph.num_edges"
   ]
  },
  {
   "cell_type": "code",
   "execution_count": 10,
   "metadata": {},
   "outputs": [
    {
     "data": {
      "text/plain": [
       "[(0, 1, 0, 1),\n",
       " (1, 2, 1, 0),\n",
       " (1, 5, 0, 0),\n",
       " (2, 3, 0, 1),\n",
       " (3, 4, 1, 0),\n",
       " (3, 7, 0, 0),\n",
       " (4, 5, 0, 1),\n",
       " (5, 6, 1, 0),\n",
       " (5, 8, 0, 1),\n",
       " (6, 7, 0, 1),\n",
       " (7, 8, 0, 0),\n",
       " (7, 9, 1, 0),\n",
       " (8, 10, 1, 0),\n",
       " (8, 11, 0, 0),\n",
       " (10, 11, 0, 1),\n",
       " (11, 12, 0, 0),\n",
       " (11, 13, 1, 0),\n",
       " (12, 31, 0, 0),\n",
       " (13, 14, 0, 0),\n",
       " (9, 27, 0, 1),\n",
       " (14, 15, 0, 1),\n",
       " (15, 16, 1, 0),\n",
       " (15, 19, 0, 0),\n",
       " (16, 17, 0, 1),\n",
       " (17, 18, 1, 0),\n",
       " (17, 21, 0, 0),\n",
       " (18, 19, 0, 1),\n",
       " (19, 20, 1, 0),\n",
       " (19, 22, 0, 1),\n",
       " (20, 21, 0, 1),\n",
       " (21, 22, 0, 0),\n",
       " (21, 23, 1, 0),\n",
       " (22, 24, 1, 0),\n",
       " (22, 26, 0, 0),\n",
       " (24, 26, 0, 1),\n",
       " (26, 28, 0, 0),\n",
       " (26, 29, 1, 0),\n",
       " (28, 46, 0, 0),\n",
       " (29, 44, 0, 0),\n",
       " (23, 25, 0, 0),\n",
       " (25, 27, 0, 0),\n",
       " (27, 30, 1, 0),\n",
       " (27, 33, 0, 0),\n",
       " (30, 31, 0, 1),\n",
       " (31, 32, 1, 0),\n",
       " (31, 35, 0, 0),\n",
       " (32, 33, 0, 1),\n",
       " (33, 34, 1, 0),\n",
       " (33, 36, 0, 1),\n",
       " (34, 35, 0, 1),\n",
       " (35, 36, 0, 0),\n",
       " (35, 37, 1, 0),\n",
       " (36, 38, 1, 0),\n",
       " (36, 40, 0, 0),\n",
       " (38, 40, 0, 1),\n",
       " (40, 41, 0, 0),\n",
       " (40, 42, 1, 0),\n",
       " (42, 43, 0, 0),\n",
       " (37, 39, 0, 0),\n",
       " (43, 44, 0, 1),\n",
       " (44, 45, 1, 0),\n",
       " (44, 48, 0, 0),\n",
       " (45, 46, 0, 1),\n",
       " (46, 47, 1, 0),\n",
       " (46, 50, 0, 0),\n",
       " (47, 48, 0, 1),\n",
       " (48, 49, 1, 0),\n",
       " (48, 51, 0, 1),\n",
       " (49, 50, 0, 1),\n",
       " (50, 51, 0, 0),\n",
       " (50, 52, 1, 0),\n",
       " (51, 53, 1, 0),\n",
       " (51, 55, 0, 0),\n",
       " (53, 55, 0, 1),\n",
       " (55, 56, 0, 0),\n",
       " (55, 57, 1, 0),\n",
       " (52, 54, 0, 0)]"
      ]
     },
     "execution_count": 10,
     "metadata": {},
     "output_type": "execute_result"
    }
   ],
   "source": [
    "my_graph.all_edges()"
   ]
  },
  {
   "cell_type": "code",
   "execution_count": 11,
   "metadata": {},
   "outputs": [
    {
     "data": {
      "text/plain": [
       "[<quartz.core.PyNode at 0x7efe005436d0>,\n",
       " <quartz.core.PyNode at 0x7efe00543e70>,\n",
       " <quartz.core.PyNode at 0x7efe00543ed0>,\n",
       " <quartz.core.PyNode at 0x7efe00543eb0>,\n",
       " <quartz.core.PyNode at 0x7efe00543c70>,\n",
       " <quartz.core.PyNode at 0x7efe00543c90>,\n",
       " <quartz.core.PyNode at 0x7efe00543bd0>,\n",
       " <quartz.core.PyNode at 0x7efe00543cb0>,\n",
       " <quartz.core.PyNode at 0x7efe00543c50>,\n",
       " <quartz.core.PyNode at 0x7efe00543e50>,\n",
       " <quartz.core.PyNode at 0x7efe00543cf0>,\n",
       " <quartz.core.PyNode at 0x7efe00543d10>,\n",
       " <quartz.core.PyNode at 0x7efe00543d30>,\n",
       " <quartz.core.PyNode at 0x7efe00543e90>,\n",
       " <quartz.core.PyNode at 0x7efe00543d70>,\n",
       " <quartz.core.PyNode at 0x7efe00543d90>,\n",
       " <quartz.core.PyNode at 0x7efe00543db0>,\n",
       " <quartz.core.PyNode at 0x7efe00543f90>,\n",
       " <quartz.core.PyNode at 0x7efe00543df0>,\n",
       " <quartz.core.PyNode at 0x7efe00543e10>,\n",
       " <quartz.core.PyNode at 0x7efe00543e30>,\n",
       " <quartz.core.PyNode at 0x7efe00543f70>,\n",
       " <quartz.core.PyNode at 0x7efe00543f30>,\n",
       " <quartz.core.PyNode at 0x7efe00543f50>,\n",
       " <quartz.core.PyNode at 0x7efe00543ef0>,\n",
       " <quartz.core.PyNode at 0x7efe00543dd0>,\n",
       " <quartz.core.PyNode at 0x7efe00543d50>,\n",
       " <quartz.core.PyNode at 0x7efe00543cd0>,\n",
       " <quartz.core.PyNode at 0x7efe00543bf0>,\n",
       " <quartz.core.PyNode at 0x7efe00543b90>,\n",
       " <quartz.core.PyNode at 0x7efe00543b70>,\n",
       " <quartz.core.PyNode at 0x7efe00543b50>,\n",
       " <quartz.core.PyNode at 0x7efe00543b30>,\n",
       " <quartz.core.PyNode at 0x7efe00543b10>,\n",
       " <quartz.core.PyNode at 0x7efe00543af0>,\n",
       " <quartz.core.PyNode at 0x7efe00543ad0>,\n",
       " <quartz.core.PyNode at 0x7efe00543ab0>,\n",
       " <quartz.core.PyNode at 0x7efe00543a90>,\n",
       " <quartz.core.PyNode at 0x7efe00543a70>,\n",
       " <quartz.core.PyNode at 0x7efe00543a50>,\n",
       " <quartz.core.PyNode at 0x7efe00543a30>,\n",
       " <quartz.core.PyNode at 0x7efe005437d0>,\n",
       " <quartz.core.PyNode at 0x7efe00543990>,\n",
       " <quartz.core.PyNode at 0x7efe00543810>,\n",
       " <quartz.core.PyNode at 0x7efe005439f0>,\n",
       " <quartz.core.PyNode at 0x7efe005438d0>,\n",
       " <quartz.core.PyNode at 0x7efe005438b0>,\n",
       " <quartz.core.PyNode at 0x7efe00543950>,\n",
       " <quartz.core.PyNode at 0x7efe00548030>,\n",
       " <quartz.core.PyNode at 0x7efe00548050>,\n",
       " <quartz.core.PyNode at 0x7efe00548070>,\n",
       " <quartz.core.PyNode at 0x7efe00548090>,\n",
       " <quartz.core.PyNode at 0x7efe005480b0>,\n",
       " <quartz.core.PyNode at 0x7efe005480d0>,\n",
       " <quartz.core.PyNode at 0x7efe005480f0>,\n",
       " <quartz.core.PyNode at 0x7efe00548110>,\n",
       " <quartz.core.PyNode at 0x7efe00548130>,\n",
       " <quartz.core.PyNode at 0x7efe00548150>]"
      ]
     },
     "execution_count": 11,
     "metadata": {},
     "output_type": "execute_result"
    }
   ],
   "source": [
    "my_graph.all_nodes()"
   ]
  },
  {
   "cell_type": "code",
   "execution_count": 12,
   "metadata": {},
   "outputs": [
    {
     "data": {
      "text/plain": [
       "[{'id': 0, 'node': <quartz.core.PyNode at 0x7efe005481d0>},\n",
       " {'id': 1, 'node': <quartz.core.PyNode at 0x7efe00548210>},\n",
       " {'id': 2, 'node': <quartz.core.PyNode at 0x7efe00548190>},\n",
       " {'id': 3, 'node': <quartz.core.PyNode at 0x7efe005481f0>},\n",
       " {'id': 4, 'node': <quartz.core.PyNode at 0x7efe00548170>},\n",
       " {'id': 5, 'node': <quartz.core.PyNode at 0x7efe00548230>},\n",
       " {'id': 6, 'node': <quartz.core.PyNode at 0x7efe005481b0>},\n",
       " {'id': 7, 'node': <quartz.core.PyNode at 0x7efe00548270>},\n",
       " {'id': 8, 'node': <quartz.core.PyNode at 0x7efe00548290>},\n",
       " {'id': 9, 'node': <quartz.core.PyNode at 0x7efe005482b0>},\n",
       " {'id': 10, 'node': <quartz.core.PyNode at 0x7efe005482d0>},\n",
       " {'id': 11, 'node': <quartz.core.PyNode at 0x7efe005482f0>},\n",
       " {'id': 12, 'node': <quartz.core.PyNode at 0x7efe00548310>},\n",
       " {'id': 13, 'node': <quartz.core.PyNode at 0x7efe00548330>},\n",
       " {'id': 14, 'node': <quartz.core.PyNode at 0x7efe00548350>},\n",
       " {'id': 15, 'node': <quartz.core.PyNode at 0x7efe00548370>},\n",
       " {'id': 16, 'node': <quartz.core.PyNode at 0x7efe00548390>},\n",
       " {'id': 17, 'node': <quartz.core.PyNode at 0x7efe005483b0>},\n",
       " {'id': 18, 'node': <quartz.core.PyNode at 0x7efe005483d0>},\n",
       " {'id': 19, 'node': <quartz.core.PyNode at 0x7efe005483f0>},\n",
       " {'id': 20, 'node': <quartz.core.PyNode at 0x7efe00548410>},\n",
       " {'id': 21, 'node': <quartz.core.PyNode at 0x7efe00548430>},\n",
       " {'id': 22, 'node': <quartz.core.PyNode at 0x7efe00548450>},\n",
       " {'id': 23, 'node': <quartz.core.PyNode at 0x7efe00548470>},\n",
       " {'id': 24, 'node': <quartz.core.PyNode at 0x7efe00548490>},\n",
       " {'id': 25, 'node': <quartz.core.PyNode at 0x7efe005484b0>},\n",
       " {'id': 26, 'node': <quartz.core.PyNode at 0x7efe005484d0>},\n",
       " {'id': 27, 'node': <quartz.core.PyNode at 0x7efe005484f0>},\n",
       " {'id': 28, 'node': <quartz.core.PyNode at 0x7efe00548510>},\n",
       " {'id': 29, 'node': <quartz.core.PyNode at 0x7efe00548530>},\n",
       " {'id': 30, 'node': <quartz.core.PyNode at 0x7efe00548550>},\n",
       " {'id': 31, 'node': <quartz.core.PyNode at 0x7efe00548570>},\n",
       " {'id': 32, 'node': <quartz.core.PyNode at 0x7efe00548590>},\n",
       " {'id': 33, 'node': <quartz.core.PyNode at 0x7efe005485b0>},\n",
       " {'id': 34, 'node': <quartz.core.PyNode at 0x7efe005485d0>},\n",
       " {'id': 35, 'node': <quartz.core.PyNode at 0x7efe005485f0>},\n",
       " {'id': 36, 'node': <quartz.core.PyNode at 0x7efe00548610>},\n",
       " {'id': 37, 'node': <quartz.core.PyNode at 0x7efe00548630>},\n",
       " {'id': 38, 'node': <quartz.core.PyNode at 0x7efe00548650>},\n",
       " {'id': 39, 'node': <quartz.core.PyNode at 0x7efe00548670>},\n",
       " {'id': 40, 'node': <quartz.core.PyNode at 0x7efe00548690>},\n",
       " {'id': 41, 'node': <quartz.core.PyNode at 0x7efe005486b0>},\n",
       " {'id': 42, 'node': <quartz.core.PyNode at 0x7efe005486d0>},\n",
       " {'id': 43, 'node': <quartz.core.PyNode at 0x7efe005486f0>},\n",
       " {'id': 44, 'node': <quartz.core.PyNode at 0x7efe00548710>},\n",
       " {'id': 45, 'node': <quartz.core.PyNode at 0x7efe00548730>},\n",
       " {'id': 46, 'node': <quartz.core.PyNode at 0x7efe00548750>},\n",
       " {'id': 47, 'node': <quartz.core.PyNode at 0x7efe00548770>},\n",
       " {'id': 48, 'node': <quartz.core.PyNode at 0x7efe00548790>},\n",
       " {'id': 49, 'node': <quartz.core.PyNode at 0x7efe005487b0>},\n",
       " {'id': 50, 'node': <quartz.core.PyNode at 0x7efe005487d0>},\n",
       " {'id': 51, 'node': <quartz.core.PyNode at 0x7efe005487f0>},\n",
       " {'id': 52, 'node': <quartz.core.PyNode at 0x7efe00548810>},\n",
       " {'id': 53, 'node': <quartz.core.PyNode at 0x7efe00548830>},\n",
       " {'id': 54, 'node': <quartz.core.PyNode at 0x7efe00548850>},\n",
       " {'id': 55, 'node': <quartz.core.PyNode at 0x7efe00548870>},\n",
       " {'id': 56, 'node': <quartz.core.PyNode at 0x7efe00548890>},\n",
       " {'id': 57, 'node': <quartz.core.PyNode at 0x7efe005488b0>}]"
      ]
     },
     "execution_count": 12,
     "metadata": {},
     "output_type": "execute_result"
    }
   ],
   "source": [
    "my_graph.all_nodes_with_id()"
   ]
  },
  {
   "cell_type": "code",
   "execution_count": 13,
   "metadata": {},
   "outputs": [
    {
     "data": {
      "text/plain": [
       "<quartz.core.PyNode at 0x7efe00548250>"
      ]
     },
     "execution_count": 13,
     "metadata": {},
     "output_type": "execute_result"
    }
   ],
   "source": [
    "my_graph.get_node_from_id(id=0)"
   ]
  },
  {
   "cell_type": "code",
   "execution_count": 14,
   "metadata": {},
   "outputs": [],
   "source": [
    "my_graph_dgl = my_graph.to_dgl_graph()\n",
    "# my_graph.all_edges()"
   ]
  },
  {
   "cell_type": "code",
   "execution_count": 15,
   "metadata": {},
   "outputs": [
    {
     "data": {
      "text/plain": [
       "77"
      ]
     },
     "execution_count": 15,
     "metadata": {},
     "output_type": "execute_result"
    }
   ],
   "source": [
    "my_graph_dgl.num_edges()"
   ]
  },
  {
   "cell_type": "code",
   "execution_count": 16,
   "metadata": {},
   "outputs": [
    {
     "data": {
      "text/plain": [
       "[<quartz.core.PyNode at 0x7efe00548e70>,\n",
       " <quartz.core.PyNode at 0x7efe00548df0>,\n",
       " <quartz.core.PyNode at 0x7efe00548f30>,\n",
       " <quartz.core.PyNode at 0x7efe00548e90>,\n",
       " <quartz.core.PyNode at 0x7efe00548e50>,\n",
       " <quartz.core.PyNode at 0x7efe00548ef0>,\n",
       " <quartz.core.PyNode at 0x7efe00548eb0>,\n",
       " <quartz.core.PyNode at 0x7efe005488d0>,\n",
       " <quartz.core.PyNode at 0x7efe00548db0>,\n",
       " <quartz.core.PyNode at 0x7efe00548d90>,\n",
       " <quartz.core.PyNode at 0x7efe00548d70>,\n",
       " <quartz.core.PyNode at 0x7efe00548d50>,\n",
       " <quartz.core.PyNode at 0x7efe00548d30>,\n",
       " <quartz.core.PyNode at 0x7efe00548d10>,\n",
       " <quartz.core.PyNode at 0x7efe00548cf0>,\n",
       " <quartz.core.PyNode at 0x7efe00548cd0>,\n",
       " <quartz.core.PyNode at 0x7efe00548cb0>,\n",
       " <quartz.core.PyNode at 0x7efe00548c90>,\n",
       " <quartz.core.PyNode at 0x7efe00548c70>,\n",
       " <quartz.core.PyNode at 0x7efe00548c50>,\n",
       " <quartz.core.PyNode at 0x7efe00548c30>,\n",
       " <quartz.core.PyNode at 0x7efe00548c10>,\n",
       " <quartz.core.PyNode at 0x7efe00548bf0>,\n",
       " <quartz.core.PyNode at 0x7efe00548bd0>,\n",
       " <quartz.core.PyNode at 0x7efe00548bb0>,\n",
       " <quartz.core.PyNode at 0x7efe00548b90>,\n",
       " <quartz.core.PyNode at 0x7efe00548b70>,\n",
       " <quartz.core.PyNode at 0x7efe00548b50>,\n",
       " <quartz.core.PyNode at 0x7efe00548b30>,\n",
       " <quartz.core.PyNode at 0x7efe00548b10>,\n",
       " <quartz.core.PyNode at 0x7efe00548af0>,\n",
       " <quartz.core.PyNode at 0x7efe00548ad0>,\n",
       " <quartz.core.PyNode at 0x7efe00548ab0>,\n",
       " <quartz.core.PyNode at 0x7efe00548930>,\n",
       " <quartz.core.PyNode at 0x7efe005489b0>,\n",
       " <quartz.core.PyNode at 0x7efe00548a50>,\n",
       " <quartz.core.PyNode at 0x7efe005488f0>,\n",
       " <quartz.core.PyNode at 0x7efe00548950>,\n",
       " <quartz.core.PyNode at 0x7efe00548910>,\n",
       " <quartz.core.PyNode at 0x7efe00548a70>,\n",
       " <quartz.core.PyNode at 0x7efe00548990>,\n",
       " <quartz.core.PyNode at 0x7efe00548970>,\n",
       " <quartz.core.PyNode at 0x7efe005489d0>,\n",
       " <quartz.core.PyNode at 0x7efe00548a10>,\n",
       " <quartz.core.PyNode at 0x7efe00555030>,\n",
       " <quartz.core.PyNode at 0x7efe00555050>,\n",
       " <quartz.core.PyNode at 0x7efe00555070>,\n",
       " <quartz.core.PyNode at 0x7efe00555090>,\n",
       " <quartz.core.PyNode at 0x7efe005550b0>,\n",
       " <quartz.core.PyNode at 0x7efe005550d0>,\n",
       " <quartz.core.PyNode at 0x7efe005550f0>,\n",
       " <quartz.core.PyNode at 0x7efe00555110>,\n",
       " <quartz.core.PyNode at 0x7efe00555130>,\n",
       " <quartz.core.PyNode at 0x7efe00555150>,\n",
       " <quartz.core.PyNode at 0x7efe00555170>,\n",
       " <quartz.core.PyNode at 0x7efe00555190>,\n",
       " <quartz.core.PyNode at 0x7efe005551b0>,\n",
       " <quartz.core.PyNode at 0x7efe005551d0>]"
      ]
     },
     "execution_count": 16,
     "metadata": {},
     "output_type": "execute_result"
    }
   ],
   "source": [
    "all_nodes = my_graph.all_nodes()\n",
    "all_nodes"
   ]
  },
  {
   "cell_type": "markdown",
   "metadata": {},
   "source": [
    "The codes below shows the usage of the two APIs `PyGraph.available_xfers` and `PyGraph.apply_xfer`."
   ]
  },
  {
   "cell_type": "code",
   "execution_count": 17,
   "metadata": {},
   "outputs": [
    {
     "name": "stdout",
     "output_type": "stream",
     "text": [
      "[128]\n",
      "[190]\n",
      "[138]\n",
      "[]\n",
      "[208, 314]\n",
      "[190]\n",
      "[138]\n",
      "[]\n",
      "[41, 172, 173, 190]\n",
      "[]\n",
      "[138]\n",
      "[133, 143]\n",
      "[132, 142]\n",
      "[]\n",
      "[128]\n",
      "[190]\n",
      "[138]\n",
      "[]\n",
      "[208, 314]\n",
      "[190]\n",
      "[138]\n",
      "[]\n",
      "[41, 172, 173, 190]\n",
      "[]\n",
      "[138]\n",
      "[364]\n",
      "[133, 143]\n",
      "[]\n",
      "[132, 142]\n",
      "[132, 142]\n",
      "[208, 314]\n",
      "[190]\n",
      "[138]\n",
      "[]\n",
      "[208, 314]\n",
      "[190]\n",
      "[157, 164, 165]\n",
      "[]\n",
      "[208, 314]\n",
      "[]\n",
      "[151, 190, 199]\n",
      "[]\n",
      "[]\n",
      "[128]\n",
      "[]\n",
      "[208, 314]\n",
      "[190]\n",
      "[138]\n",
      "[]\n",
      "[208, 314]\n",
      "[190]\n",
      "[157, 164, 165]\n",
      "[]\n",
      "[208, 314]\n",
      "[]\n",
      "[151, 190, 199]\n",
      "[]\n",
      "[]\n"
     ]
    }
   ],
   "source": [
    "for node in all_nodes:\n",
    "    print(my_graph.available_xfers(quartz_context, node, \"int\"))"
   ]
  },
  {
   "cell_type": "code",
   "execution_count": 18,
   "metadata": {},
   "outputs": [],
   "source": [
    "new_graph = my_graph.apply_xfer(xfer=quartz_context.get_xfer_from_id(id=190), node=all_nodes[1])"
   ]
  },
  {
   "cell_type": "code",
   "execution_count": 19,
   "metadata": {},
   "outputs": [
    {
     "data": {
      "text/plain": [
       "17470542277772598492"
      ]
     },
     "execution_count": 19,
     "metadata": {},
     "output_type": "execute_result"
    }
   ],
   "source": [
    "new_graph.hash()"
   ]
  },
  {
   "cell_type": "code",
   "execution_count": 20,
   "metadata": {},
   "outputs": [
    {
     "data": {
      "text/plain": [
       "60"
      ]
     },
     "execution_count": 20,
     "metadata": {},
     "output_type": "execute_result"
    }
   ],
   "source": [
    "new_graph.gate_count"
   ]
  },
  {
   "cell_type": "markdown",
   "metadata": {},
   "source": [
    "The codes below is a back tracking search implemented with the quartz python APIs."
   ]
  },
  {
   "cell_type": "code",
   "execution_count": 22,
   "metadata": {},
   "outputs": [
    {
     "name": "stdout",
     "output_type": "stream",
     "text": [
      "9000: minimum gate count is 58\n",
      "8000: minimum gate count is 58\n",
      "7000: minimum gate count is 58\n",
      "6000: minimum gate count is 58\n",
      "5000: minimum gate count is 58\n",
      "4000: minimum gate count is 58\n",
      "3000: minimum gate count is 58\n",
      "2000: minimum gate count is 58\n",
      "1000: minimum gate count is 56\n",
      "0: minimum gate count is 56\n"
     ]
    }
   ],
   "source": [
    "# Optimizing with BFS\n",
    "import heapq\n",
    "\n",
    "candidate_hq = []\n",
    "heapq.heappush(candidate_hq, my_graph)\n",
    "hash_set = set()\n",
    "hash_set.add(my_graph.hash())\n",
    "best_graph = my_graph\n",
    "best_gate_cnt = my_graph.gate_count\n",
    "\n",
    "budget = 10_000\n",
    "\n",
    "while candidate_hq != [] and budget >= 0:\n",
    "    first_candidate = heapq.heappop(candidate_hq)\n",
    "    all_nodes = first_candidate.all_nodes()\n",
    "    for node in all_nodes:\n",
    "        appliable_xfers = first_candidate.available_xfers(quartz_context, node, \"int\")\n",
    "        for xfer in appliable_xfers:\n",
    "            new_graph = first_candidate.apply_xfer(xfer=quartz_context.get_xfer_from_id(id=xfer), node=node)\n",
    "            if new_graph.hash() not in hash_set:\n",
    "                hash_set.add(new_graph.hash())\n",
    "                heapq.heappush(candidate_hq, new_graph)\n",
    "                if new_graph < best_graph:\n",
    "                    best_graph = new_graph\n",
    "                    best_gate_cnt = new_graph.gate_count\n",
    "                budget -= 1\n",
    "                if budget % 1_000 == 0:\n",
    "                    print(f'{budget}: minimum gate count is {best_gate_cnt}')"
   ]
  }
 ],
 "metadata": {
  "interpreter": {
   "hash": "5cf248733d409ee2d3396b673fb667db69ceca2c5535c00dab670ead284bfb2d"
  },
  "kernelspec": {
   "display_name": "Python 3.8.11 64-bit ('quantum': conda)",
   "language": "python",
   "name": "python3"
  },
  "language_info": {
   "codemirror_mode": {
    "name": "ipython",
    "version": 3
   },
   "file_extension": ".py",
   "mimetype": "text/x-python",
   "name": "python",
   "nbconvert_exporter": "python",
   "pygments_lexer": "ipython3",
   "version": "3.8.11"
  },
  "orig_nbformat": 4
 },
 "nbformat": 4,
 "nbformat_minor": 2
}
